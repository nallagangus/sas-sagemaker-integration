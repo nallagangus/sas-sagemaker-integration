{
 "cells": [
  {
   "cell_type": "markdown",
   "metadata": {},
   "source": [
    "# This Notebook uses AWS feature store and creates two feature groups from CSV files.\n",
    "   1. **Reads S3 files into panda data frames**\n",
    "   2. **Gets appropriate \"AWS boto3, sagemaker, feature-store sessions\"** \n",
    "   3. **Configures 'feature groups\" that includes appending \"EventTime\" and loading \"feature definitions\"**\n",
    "   4. **Creates \"feature groups\" and waits for completion - This takes 2-3 min. Again this just establishes \"file and directory\" structure for offlinestore on s3**\n",
    "   5. **Loads the \"panda dataframes\" into feature stores - This actually loads data into S3. This takes 10-15 min depending on size of data**\n",
    "   6. **Miscs - validation that data is loaded.**"
   ]
  },
  {
   "cell_type": "code",
   "execution_count": 1,
   "metadata": {},
   "outputs": [],
   "source": [
    "# default bucket and input data files\n",
    "bucket = \"fsbu-user1-s3bucket-1\"\n",
    "fraud_txn_file = \"fraud_and_transactions.csv\"\n",
    "fraud_summary_file = \"fraud_txn_summary.csv\"\n",
    "\n",
    "# offline store area for feature-store.\n",
    "feature_store_s3_bucket = \"fsbu-user1-feature-store\"\n",
    "\n",
    "# All access defined on this role\n",
    "sagemaker_iam_role='arn:aws:iam::123456789012:role/fsbu-user1-sagemaker-fullaccess'\n"
   ]
  },
  {
   "cell_type": "markdown",
   "metadata": {},
   "source": [
    "## Step 1 - Read s3 .csv files into panda data frames.** \n",
    "**These files could be the outputs from AWS data wrangler preprocessing step.** \n",
    "**While we can do pre-processing here it is recommended to do this before we create the \"feature store\".**"
   ]
  },
  {
   "cell_type": "code",
   "execution_count": 2,
   "metadata": {},
   "outputs": [
    {
     "name": "stderr",
     "output_type": "stream",
     "text": [
      "/opt/anaconda3/envs/py36_swatsasctl/lib/python3.6/site-packages/IPython/core/interactiveshell.py:2714: DtypeWarning: Columns (14,15,16) have mixed types.Specify dtype option on import or set low_memory=False.\n",
      "  interactivity=interactivity, compiler=compiler, result=result)\n"
     ]
    },
    {
     "data": {
      "text/html": [
       "<div>\n",
       "<style scoped>\n",
       "    .dataframe tbody tr th:only-of-type {\n",
       "        vertical-align: middle;\n",
       "    }\n",
       "\n",
       "    .dataframe tbody tr th {\n",
       "        vertical-align: top;\n",
       "    }\n",
       "\n",
       "    .dataframe thead th {\n",
       "        text-align: right;\n",
       "    }\n",
       "</style>\n",
       "<table border=\"1\" class=\"dataframe\">\n",
       "  <thead>\n",
       "    <tr style=\"text-align: right;\">\n",
       "      <th></th>\n",
       "      <th>auth_account_id</th>\n",
       "      <th>auth_date</th>\n",
       "      <th>daily_sum</th>\n",
       "      <th>daily_count</th>\n",
       "    </tr>\n",
       "  </thead>\n",
       "  <tbody>\n",
       "    <tr>\n",
       "      <th>0</th>\n",
       "      <td>4019012000171232</td>\n",
       "      <td>1997-09-19</td>\n",
       "      <td>32.44</td>\n",
       "      <td>1</td>\n",
       "    </tr>\n",
       "    <tr>\n",
       "      <th>1</th>\n",
       "      <td>4019012000171232</td>\n",
       "      <td>1997-10-29</td>\n",
       "      <td>68.49</td>\n",
       "      <td>1</td>\n",
       "    </tr>\n",
       "    <tr>\n",
       "      <th>2</th>\n",
       "      <td>4019012000198253</td>\n",
       "      <td>1997-10-12</td>\n",
       "      <td>10.00</td>\n",
       "      <td>2</td>\n",
       "    </tr>\n",
       "    <tr>\n",
       "      <th>3</th>\n",
       "      <td>4019012000198253</td>\n",
       "      <td>1997-10-16</td>\n",
       "      <td>10.00</td>\n",
       "      <td>2</td>\n",
       "    </tr>\n",
       "    <tr>\n",
       "      <th>4</th>\n",
       "      <td>4019012000198253</td>\n",
       "      <td>1997-10-26</td>\n",
       "      <td>5.00</td>\n",
       "      <td>1</td>\n",
       "    </tr>\n",
       "  </tbody>\n",
       "</table>\n",
       "</div>"
      ],
      "text/plain": [
       "    auth_account_id   auth_date  daily_sum  daily_count\n",
       "0  4019012000171232  1997-09-19      32.44            1\n",
       "1  4019012000171232  1997-10-29      68.49            1\n",
       "2  4019012000198253  1997-10-12      10.00            2\n",
       "3  4019012000198253  1997-10-16      10.00            2\n",
       "4  4019012000198253  1997-10-26       5.00            1"
      ]
     },
     "execution_count": 2,
     "metadata": {},
     "output_type": "execute_result"
    }
   ],
   "source": [
    "import numpy as np\n",
    "import pandas as pd\n",
    "#import matplotlib.pyplot as plt\n",
    "import io\n",
    "import boto3\n",
    "\n",
    "boto3_session = boto3.Session()\n",
    "\n",
    "s3_client = boto3_session.client('s3')\n",
    "\n",
    "try:\n",
    "    fraud_txn_data_object = s3_client.get_object(Bucket=bucket, Key=fraud_txn_file)\n",
    "    fraud_summary_data_object = s3_client.get_object(Bucket=bucket, Key=fraud_summary_file)\n",
    "except ClientError as e:\n",
    "    print(\"Error with AWS call while reading files from S3: %s\" % e)\n",
    "  \n",
    "txn_data = pd.read_csv(io.BytesIO(fraud_txn_data_object[\"Body\"].read()))\n",
    "summary_data = pd.read_csv(io.BytesIO(fraud_summary_data_object[\"Body\"].read()))\n",
    "\n",
    "txn_data.head()\n",
    "summary_data.head()"
   ]
  },
  {
   "cell_type": "code",
   "execution_count": 3,
   "metadata": {},
   "outputs": [
    {
     "name": "stdout",
     "output_type": "stream",
     "text": [
      "Txn dataframe sahape:  (201648, 53)\n",
      "Summary dataframe sahape:  (171408, 4)\n",
      "Txn dataframe head:     Unique_ID   recnum   AUTH_ACCOUNT_ID   AUTH_DATE         AUTH_TIME  \\\n",
      "0   18683804   603802  4024004756639495  1996-12-08  30DEC99:18:05:28   \n",
      "1   18683904   556031  4024004655600437  1996-11-19  30DEC99:17:57:26   \n",
      "2   18684004   710837  4024006030055626  1997-05-20  30DEC99:14:53:10   \n",
      "3   18684104  1651398  4071006999539689  1997-02-17  30DEC99:18:54:10   \n",
      "4   18684204  1817317  4301781037190134  1996-11-02  30DEC99:12:18:40   \n",
      "\n",
      "   AUTH_HOUR  AUTH_AMOUNT  AUTH_CURR_CODE  AUTH_CURR_RATE AUTH_DECISION  ...  \\\n",
      "0         18        78.00             NaN             NaN             A  ...   \n",
      "1         17        27.00             NaN             NaN             A  ...   \n",
      "2         14        36.96             NaN             0.0             A  ...   \n",
      "3         18        24.76             NaN             0.0             A  ...   \n",
      "4         12        80.07             NaN             0.0             A  ...   \n",
      "\n",
      "  AUTH_CARD_ZIP3_DIFF  AUTH_TRAIN_FLAG  SIC_RISK  AMOUNT_SIC_DEV FRAUD_STAGE  \\\n",
      "0                 5.0                1      0.11           -0.03           0   \n",
      "1                 0.0                1      0.11           -0.27          -1   \n",
      "2                 NaN                1      0.11           -0.22          -1   \n",
      "3                17.0                1      0.11           -0.28          -1   \n",
      "4                 0.0                1      0.11           -0.02           0   \n",
      "\n",
      "    padzip txtCode                    txtDesc           city state  \n",
      "0  93010.0  5531.0  Auto & Home Supply Stores      Camarillo    CA  \n",
      "1  93010.0  5531.0  Auto & Home Supply Stores      Camarillo    CA  \n",
      "2  93101.0  5531.0  Auto & Home Supply Stores  Santa Barbara    CA  \n",
      "3  93010.0  5531.0  Auto & Home Supply Stores      Camarillo    CA  \n",
      "4  93030.0  5531.0  Auto & Home Supply Stores         Oxnard    CA  \n",
      "\n",
      "[5 rows x 53 columns]\n"
     ]
    }
   ],
   "source": [
    "print(\"Txn dataframe sahape: \", txn_data.shape)\n",
    "print(\"Summary dataframe sahape: \", summary_data.shape)\n",
    "print(\"Txn dataframe head: \", txn_data.head())\n"
   ]
  },
  {
   "cell_type": "markdown",
   "metadata": {},
   "source": [
    "## Step 2 - Create sagemaker sessions and feature group objects.** \n",
    "**Load feature definitions from panda data frames.** \n"
   ]
  },
  {
   "cell_type": "code",
   "execution_count": 4,
   "metadata": {},
   "outputs": [],
   "source": [
    "import sagemaker\n",
    "from sagemaker.session import Session\n",
    "from sagemaker.feature_store.feature_group import FeatureGroup\n",
    "\n",
    "sagemaker_client = boto3_session.client('sagemaker')\n",
    "featurestore_runtime = boto3_session.client(service_name=\"sagemaker-featurestore-runtime\")\n",
    "\n",
    "feature_store_session = Session(boto_session=boto3_session,\n",
    "    sagemaker_client=sagemaker_client,\n",
    "    sagemaker_featurestore_runtime_client=featurestore_runtime,\n",
    ")\n",
    "\n",
    "fraud_txn_feature_group = FeatureGroup(\n",
    "    name=\"fraud-txn-feature-group\", sagemaker_session=feature_store_session\n",
    ")\n",
    "\n",
    "fraud_summary_feature_group = FeatureGroup(\n",
    "    name=\"fraud-summary-feature-group\", sagemaker_session=feature_store_session\n",
    ")\n",
    "\n"
   ]
  },
  {
   "cell_type": "markdown",
   "metadata": {},
   "source": [
    "## Step 3 - Append panda frames with additional details required for \"feature stores\".** \n",
    "**REad about feature deinitions ane event time of feature stores .** \n"
   ]
  },
  {
   "cell_type": "code",
   "execution_count": 5,
   "metadata": {},
   "outputs": [
    {
     "name": "stdout",
     "output_type": "stream",
     "text": [
      "summary head with new eventtime:      auth_account_id   auth_date  daily_sum  daily_count     EventTime\n",
      "0  4019012000171232  1997-09-19      32.44            1  1.628479e+09\n",
      "1  4019012000171232  1997-10-29      68.49            1  1.628479e+09\n",
      "2  4019012000198253  1997-10-12      10.00            2  1.628479e+09\n",
      "3  4019012000198253  1997-10-16      10.00            2  1.628479e+09\n",
      "4  4019012000198253  1997-10-26       5.00            1  1.628479e+09\n"
     ]
    },
    {
     "data": {
      "text/plain": [
       "[FeatureDefinition(feature_name='auth_account_id', feature_type=<FeatureTypeEnum.INTEGRAL: 'Integral'>),\n",
       " FeatureDefinition(feature_name='auth_date', feature_type=<FeatureTypeEnum.STRING: 'String'>),\n",
       " FeatureDefinition(feature_name='daily_sum', feature_type=<FeatureTypeEnum.FRACTIONAL: 'Fractional'>),\n",
       " FeatureDefinition(feature_name='daily_count', feature_type=<FeatureTypeEnum.INTEGRAL: 'Integral'>),\n",
       " FeatureDefinition(feature_name='EventTime', feature_type=<FeatureTypeEnum.FRACTIONAL: 'Fractional'>)]"
      ]
     },
     "execution_count": 5,
     "metadata": {},
     "output_type": "execute_result"
    }
   ],
   "source": [
    "import time\n",
    "\n",
    "current_time_sec = int(round(time.time()))\n",
    "\n",
    "def cast_object_to_string(data_frame):\n",
    "    for label in data_frame.columns:\n",
    "        if data_frame.dtypes[label] == \"object\":\n",
    "            data_frame[label] = data_frame[label].astype(\"str\").astype(\"string\")\n",
    "\n",
    "# cast object dtype to string. The SageMaker FeatureStore Python SDK will then map the string dtype to String feature type.\n",
    "cast_object_to_string(txn_data)\n",
    "cast_object_to_string(summary_data)\n",
    "\n",
    "# record identifier and event time feature names\n",
    "record_identifier_feature_name = \"auth_account_id\"\n",
    "event_time_feature_name = \"EventTime\"\n",
    "\n",
    "# append EventTime feature\n",
    "txn_data[event_time_feature_name] = pd.Series(\n",
    "    [current_time_sec] * len(txn_data), dtype=\"float64\"\n",
    ")\n",
    "summary_data[event_time_feature_name] = pd.Series(\n",
    "    [current_time_sec] * len(summary_data), dtype=\"float64\"\n",
    ")\n",
    "    \n",
    "print(\"summary head with new eventtime: \", summary_data.head())\n",
    "\n",
    "# load feature definitions to the feature group. SageMaker FeatureStore Python SDK will auto-detect the data schema based on input data.\n",
    "fraud_txn_feature_group.load_feature_definitions(data_frame=txn_data)\n",
    "fraud_summary_feature_group.load_feature_definitions(data_frame=summary_data)\n",
    "\n"
   ]
  },
  {
   "cell_type": "code",
   "execution_count": 6,
   "metadata": {},
   "outputs": [
    {
     "data": {
      "text/plain": [
       "[FeatureDefinition(feature_name='Unique_ID', feature_type=<FeatureTypeEnum.INTEGRAL: 'Integral'>),\n",
       " FeatureDefinition(feature_name='recnum', feature_type=<FeatureTypeEnum.INTEGRAL: 'Integral'>),\n",
       " FeatureDefinition(feature_name='AUTH_ACCOUNT_ID', feature_type=<FeatureTypeEnum.INTEGRAL: 'Integral'>),\n",
       " FeatureDefinition(feature_name='AUTH_DATE', feature_type=<FeatureTypeEnum.STRING: 'String'>),\n",
       " FeatureDefinition(feature_name='AUTH_TIME', feature_type=<FeatureTypeEnum.STRING: 'String'>),\n",
       " FeatureDefinition(feature_name='AUTH_HOUR', feature_type=<FeatureTypeEnum.INTEGRAL: 'Integral'>),\n",
       " FeatureDefinition(feature_name='AUTH_AMOUNT', feature_type=<FeatureTypeEnum.FRACTIONAL: 'Fractional'>),\n",
       " FeatureDefinition(feature_name='AUTH_CURR_CODE', feature_type=<FeatureTypeEnum.FRACTIONAL: 'Fractional'>),\n",
       " FeatureDefinition(feature_name='AUTH_CURR_RATE', feature_type=<FeatureTypeEnum.FRACTIONAL: 'Fractional'>),\n",
       " FeatureDefinition(feature_name='AUTH_DECISION', feature_type=<FeatureTypeEnum.STRING: 'String'>),\n",
       " FeatureDefinition(feature_name='AUTH_TRAN_TYPE', feature_type=<FeatureTypeEnum.STRING: 'String'>),\n",
       " FeatureDefinition(feature_name='AUTH_AVAIL_CREDIT', feature_type=<FeatureTypeEnum.INTEGRAL: 'Integral'>),\n",
       " FeatureDefinition(feature_name='AUTH_CRED_LINE', feature_type=<FeatureTypeEnum.INTEGRAL: 'Integral'>),\n",
       " FeatureDefinition(feature_name='AUTH_SIC', feature_type=<FeatureTypeEnum.INTEGRAL: 'Integral'>),\n",
       " FeatureDefinition(feature_name='AUTH_ZIP3_CODE', feature_type=<FeatureTypeEnum.STRING: 'String'>),\n",
       " FeatureDefinition(feature_name='AUTH_ZIP_REST_CODE', feature_type=<FeatureTypeEnum.STRING: 'String'>),\n",
       " FeatureDefinition(feature_name='AUTH_MERCH_CNTRY', feature_type=<FeatureTypeEnum.STRING: 'String'>),\n",
       " FeatureDefinition(feature_name='AUTH_PIN_VER', feature_type=<FeatureTypeEnum.STRING: 'String'>),\n",
       " FeatureDefinition(feature_name='AUTH_CVV', feature_type=<FeatureTypeEnum.STRING: 'String'>),\n",
       " FeatureDefinition(feature_name='AUTH_KEY_SWIPE', feature_type=<FeatureTypeEnum.STRING: 'String'>),\n",
       " FeatureDefinition(feature_name='AUTH_CARD_EXP_DATE', feature_type=<FeatureTypeEnum.STRING: 'String'>),\n",
       " FeatureDefinition(feature_name='AUTH_AUTH_ID', feature_type=<FeatureTypeEnum.FRACTIONAL: 'Fractional'>),\n",
       " FeatureDefinition(feature_name='AUTH_REASON_CODE', feature_type=<FeatureTypeEnum.FRACTIONAL: 'Fractional'>),\n",
       " FeatureDefinition(feature_name='AUTH_ADVICE', feature_type=<FeatureTypeEnum.STRING: 'String'>),\n",
       " FeatureDefinition(feature_name='AUTH_MERCHANT_ID', feature_type=<FeatureTypeEnum.STRING: 'String'>),\n",
       " FeatureDefinition(feature_name='AUTH_TERM_ID', feature_type=<FeatureTypeEnum.STRING: 'String'>),\n",
       " FeatureDefinition(feature_name='AUTH_WHICH_CARD', feature_type=<FeatureTypeEnum.FRACTIONAL: 'Fractional'>),\n",
       " FeatureDefinition(feature_name='EXT_AUTH_YEAR', feature_type=<FeatureTypeEnum.INTEGRAL: 'Integral'>),\n",
       " FeatureDefinition(feature_name='EXT_AUTH_MONTH', feature_type=<FeatureTypeEnum.INTEGRAL: 'Integral'>),\n",
       " FeatureDefinition(feature_name='EXT_AUTH_DAY', feature_type=<FeatureTypeEnum.INTEGRAL: 'Integral'>),\n",
       " FeatureDefinition(feature_name='EXT_AUTH_BIN', feature_type=<FeatureTypeEnum.INTEGRAL: 'Integral'>),\n",
       " FeatureDefinition(feature_name='FRAUD_TYPE', feature_type=<FeatureTypeEnum.STRING: 'String'>),\n",
       " FeatureDefinition(feature_name='FRAUD_DATE_FIRST_FRAUD', feature_type=<FeatureTypeEnum.FRACTIONAL: 'Fractional'>),\n",
       " FeatureDefinition(feature_name='FRAUD_DETECTED_DATE', feature_type=<FeatureTypeEnum.FRACTIONAL: 'Fractional'>),\n",
       " FeatureDefinition(feature_name='FRAUD_LABEL', feature_type=<FeatureTypeEnum.INTEGRAL: 'Integral'>),\n",
       " FeatureDefinition(feature_name='CARD_ZIP3_CODE', feature_type=<FeatureTypeEnum.FRACTIONAL: 'Fractional'>),\n",
       " FeatureDefinition(feature_name='CARD_OPEN_DATE', feature_type=<FeatureTypeEnum.STRING: 'String'>),\n",
       " FeatureDefinition(feature_name='CARD_EXPIRE_DATE', feature_type=<FeatureTypeEnum.FRACTIONAL: 'Fractional'>),\n",
       " FeatureDefinition(feature_name='CARD_CRED_LINE', feature_type=<FeatureTypeEnum.FRACTIONAL: 'Fractional'>),\n",
       " FeatureDefinition(feature_name='CARD_TYPE', feature_type=<FeatureTypeEnum.STRING: 'String'>),\n",
       " FeatureDefinition(feature_name='CARD_USE', feature_type=<FeatureTypeEnum.STRING: 'String'>),\n",
       " FeatureDefinition(feature_name='CARD_NUM_CARDS', feature_type=<FeatureTypeEnum.FRACTIONAL: 'Fractional'>),\n",
       " FeatureDefinition(feature_name='CARD_REC_DATE', feature_type=<FeatureTypeEnum.STRING: 'String'>),\n",
       " FeatureDefinition(feature_name='AUTH_CARD_ZIP3_DIFF', feature_type=<FeatureTypeEnum.FRACTIONAL: 'Fractional'>),\n",
       " FeatureDefinition(feature_name='AUTH_TRAIN_FLAG', feature_type=<FeatureTypeEnum.INTEGRAL: 'Integral'>),\n",
       " FeatureDefinition(feature_name='SIC_RISK', feature_type=<FeatureTypeEnum.FRACTIONAL: 'Fractional'>),\n",
       " FeatureDefinition(feature_name='AMOUNT_SIC_DEV', feature_type=<FeatureTypeEnum.FRACTIONAL: 'Fractional'>),\n",
       " FeatureDefinition(feature_name='FRAUD_STAGE', feature_type=<FeatureTypeEnum.INTEGRAL: 'Integral'>),\n",
       " FeatureDefinition(feature_name='padzip', feature_type=<FeatureTypeEnum.FRACTIONAL: 'Fractional'>),\n",
       " FeatureDefinition(feature_name='txtCode', feature_type=<FeatureTypeEnum.FRACTIONAL: 'Fractional'>),\n",
       " FeatureDefinition(feature_name='txtDesc', feature_type=<FeatureTypeEnum.STRING: 'String'>),\n",
       " FeatureDefinition(feature_name='city', feature_type=<FeatureTypeEnum.STRING: 'String'>),\n",
       " FeatureDefinition(feature_name='state', feature_type=<FeatureTypeEnum.STRING: 'String'>),\n",
       " FeatureDefinition(feature_name='EventTime', feature_type=<FeatureTypeEnum.FRACTIONAL: 'Fractional'>)]"
      ]
     },
     "execution_count": 6,
     "metadata": {},
     "output_type": "execute_result"
    }
   ],
   "source": [
    "fraud_txn_feature_group.load_feature_definitions(data_frame=txn_data)"
   ]
  },
  {
   "cell_type": "markdown",
   "metadata": {},
   "source": [
    "## Step 4 - Create feature groups This lays down the structure on S3 and does not actually load data yet.** \n",
    " "
   ]
  },
  {
   "cell_type": "code",
   "execution_count": 11,
   "metadata": {},
   "outputs": [
    {
     "name": "stdout",
     "output_type": "stream",
     "text": [
      "Waiting for Feature Group Creation\n",
      "Waiting for Feature Group Creation\n",
      "Waiting for Feature Group Creation\n",
      "Waiting for Feature Group Creation\n",
      "FeatureGroup fraud-txn-feature-group successfully created.\n",
      "Waiting for Feature Group Creation\n",
      "FeatureGroup fraud-summary-feature-group successfully created.\n"
     ]
    }
   ],
   "source": [
    "def wait_for_feature_group_creation_complete(feature_group):\n",
    "    status = feature_group.describe().get(\"FeatureGroupStatus\")\n",
    "    while status == \"Creating\":\n",
    "        print(\"Waiting for Feature Group Creation\")\n",
    "        time.sleep(5)\n",
    "        status = feature_group.describe().get(\"FeatureGroupStatus\")\n",
    "    if status != \"Created\":\n",
    "        raise RuntimeError(f\"Failed to create feature group {feature_group.name}\")\n",
    "    print(f\"FeatureGroup {feature_group.name} successfully created.\")\n",
    "\n",
    "record_identifier_feature_name = \"Unique_ID\"\n",
    "fraud_txn_feature_group.create(\n",
    "    s3_uri=f\"s3://{feature_store_s3_bucket}/\",\n",
    "    record_identifier_name=record_identifier_feature_name,\n",
    "    event_time_feature_name=event_time_feature_name,\n",
    "    role_arn=sagemaker_iam_role,\n",
    "    enable_online_store=True\n",
    ")\n",
    "\n",
    "record_identifier_feature_name = \"auth_account_id\"\n",
    "fraud_summary_feature_group.create(\n",
    "    s3_uri=f\"s3://{feature_store_s3_bucket}/\",\n",
    "    record_identifier_name=record_identifier_feature_name,\n",
    "    event_time_feature_name=event_time_feature_name,\n",
    "    role_arn=sagemaker_iam_role,\n",
    "    enable_online_store=True\n",
    ")\n",
    "\n",
    "wait_for_feature_group_creation_complete(feature_group=fraud_txn_feature_group)\n",
    "wait_for_feature_group_creation_complete(feature_group=fraud_summary_feature_group)\n"
   ]
  },
  {
   "cell_type": "code",
   "execution_count": 12,
   "metadata": {},
   "outputs": [
    {
     "data": {
      "text/plain": [
       "{'FeatureGroupSummaries': [{'FeatureGroupName': 'fraud-txn-feature-group',\n",
       "   'FeatureGroupArn': 'arn:aws:sagemaker:us-east-1:123456789012:feature-group/fraud-txn-feature-group',\n",
       "   'CreationTime': datetime.datetime(2021, 8, 8, 23, 20, 58, 636000, tzinfo=tzlocal()),\n",
       "   'FeatureGroupStatus': 'Created'},\n",
       "  {'FeatureGroupName': 'fraud-summary-feature-group',\n",
       "   'FeatureGroupArn': 'arn:aws:sagemaker:us-east-1:123456789012:feature-group/fraud-summary-feature-group',\n",
       "   'CreationTime': datetime.datetime(2021, 8, 8, 23, 20, 59, 340000, tzinfo=tzlocal()),\n",
       "   'FeatureGroupStatus': 'Created'}],\n",
       " 'ResponseMetadata': {'RequestId': 'e00dfe14-7db7-46d3-b969-012e46e9ea80',\n",
       "  'HTTPStatusCode': 200,\n",
       "  'HTTPHeaders': {'x-amzn-requestid': 'e00dfe14-7db7-46d3-b969-012e46e9ea80',\n",
       "   'content-type': 'application/x-amz-json-1.1',\n",
       "   'content-length': '452',\n",
       "   'date': 'Mon, 09 Aug 2021 03:21:45 GMT'},\n",
       "  'RetryAttempts': 0}}"
      ]
     },
     "execution_count": 12,
     "metadata": {},
     "output_type": "execute_result"
    }
   ],
   "source": [
    "sagemaker_client.list_feature_groups()\n",
    "\n",
    "#fraud_txn_feature_group.describe()\n",
    "#fraud_summary_feature_group.describe()\n",
    "\n",
    "#fraud_txn_feature_group.delete()\n",
    "#fraud_summary_feature_group.delete()\n"
   ]
  },
  {
   "cell_type": "markdown",
   "metadata": {},
   "source": [
    "## Step 4 - Use following to save DDL for EP and any other processes. During feature creation as_hive_DDL() o/p comes with all features.....\n",
    "#### When I did same during exploration after features are created, as_hive_DDL() did not show all features. - Got to do some additional research."
   ]
  },
  {
   "cell_type": "code",
   "execution_count": 13,
   "metadata": {},
   "outputs": [
    {
     "data": {
      "text/plain": [
       "\"CREATE EXTERNAL TABLE IF NOT EXISTS sagemaker_featurestore.fraud-txn-feature-group (\\n  Unique_ID INT\\n  recnum INT\\n  AUTH_ACCOUNT_ID INT\\n  AUTH_DATE STRING\\n  AUTH_TIME STRING\\n  AUTH_HOUR INT\\n  AUTH_AMOUNT FLOAT\\n  AUTH_CURR_CODE FLOAT\\n  AUTH_CURR_RATE FLOAT\\n  AUTH_DECISION STRING\\n  AUTH_TRAN_TYPE STRING\\n  AUTH_AVAIL_CREDIT INT\\n  AUTH_CRED_LINE INT\\n  AUTH_SIC INT\\n  AUTH_ZIP3_CODE STRING\\n  AUTH_ZIP_REST_CODE STRING\\n  AUTH_MERCH_CNTRY STRING\\n  AUTH_PIN_VER STRING\\n  AUTH_CVV STRING\\n  AUTH_KEY_SWIPE STRING\\n  AUTH_CARD_EXP_DATE STRING\\n  AUTH_AUTH_ID FLOAT\\n  AUTH_REASON_CODE FLOAT\\n  AUTH_ADVICE STRING\\n  AUTH_MERCHANT_ID STRING\\n  AUTH_TERM_ID STRING\\n  AUTH_WHICH_CARD FLOAT\\n  EXT_AUTH_YEAR INT\\n  EXT_AUTH_MONTH INT\\n  EXT_AUTH_DAY INT\\n  EXT_AUTH_BIN INT\\n  FRAUD_TYPE STRING\\n  FRAUD_DATE_FIRST_FRAUD FLOAT\\n  FRAUD_DETECTED_DATE FLOAT\\n  FRAUD_LABEL INT\\n  CARD_ZIP3_CODE FLOAT\\n  CARD_OPEN_DATE STRING\\n  CARD_EXPIRE_DATE FLOAT\\n  CARD_CRED_LINE FLOAT\\n  CARD_TYPE STRING\\n  CARD_USE STRING\\n  CARD_NUM_CARDS FLOAT\\n  CARD_REC_DATE STRING\\n  AUTH_CARD_ZIP3_DIFF FLOAT\\n  AUTH_TRAIN_FLAG INT\\n  SIC_RISK FLOAT\\n  AMOUNT_SIC_DEV FLOAT\\n  FRAUD_STAGE INT\\n  padzip FLOAT\\n  txtCode FLOAT\\n  txtDesc STRING\\n  city STRING\\n  state STRING\\n  EventTime FLOAT\\n  write_time TIMESTAMP\\n  event_time TIMESTAMP\\n  is_deleted BOOLEAN\\n)\\nROW FORMAT SERDE 'org.apache.hadoop.hive.ql.io.parquet.serde.ParquetHiveSerDe'\\n  STORED AS\\n  INPUTFORMAT 'parquet.hive.DeprecatedParquetInputFormat'\\n  OUTPUTFORMAT 'parquet.hive.DeprecatedParquetOutputFormat'\\nLOCATION 's3://fsbu-user1-feature-store/123456789012/sagemaker/us-east-1/offline-store/fraud-txn-feature-group-1628479258/data'\""
      ]
     },
     "execution_count": 13,
     "metadata": {},
     "output_type": "execute_result"
    }
   ],
   "source": [
    "fraud_txn_feature_group.as_hive_ddl()"
   ]
  },
  {
   "cell_type": "code",
   "execution_count": 14,
   "metadata": {},
   "outputs": [
    {
     "data": {
      "text/plain": [
       "\"CREATE EXTERNAL TABLE IF NOT EXISTS sagemaker_featurestore.fraud-summary-feature-group (\\n  auth_account_id INT\\n  auth_date STRING\\n  daily_sum FLOAT\\n  daily_count INT\\n  EventTime FLOAT\\n  write_time TIMESTAMP\\n  event_time TIMESTAMP\\n  is_deleted BOOLEAN\\n)\\nROW FORMAT SERDE 'org.apache.hadoop.hive.ql.io.parquet.serde.ParquetHiveSerDe'\\n  STORED AS\\n  INPUTFORMAT 'parquet.hive.DeprecatedParquetInputFormat'\\n  OUTPUTFORMAT 'parquet.hive.DeprecatedParquetOutputFormat'\\nLOCATION 's3://fsbu-user1-feature-store/123456789012/sagemaker/us-east-1/offline-store/fraud-summary-feature-group-1628479259/data'\""
      ]
     },
     "execution_count": 14,
     "metadata": {},
     "output_type": "execute_result"
    }
   ],
   "source": [
    "fraud_summary_feature_group.as_hive_ddl()"
   ]
  },
  {
   "cell_type": "markdown",
   "metadata": {},
   "source": [
    "#### Step 5 - Ingest the data from panda into feature stores and wait till all data gets loaded.** "
   ]
  },
  {
   "cell_type": "code",
   "execution_count": 15,
   "metadata": {},
   "outputs": [
    {
     "data": {
      "text/plain": [
       "IngestionManagerPandas(feature_group_name='fraud-summary-feature-group', sagemaker_fs_runtime_client_config=<botocore.config.Config object at 0x7f9b69c48860>, max_workers=3, max_processes=1, _async_result=<multiprocess.pool.MapResult object at 0x7f9b6592dba8>, _processing_pool=<pool ProcessPool(ncpus=1)>, _failed_indices=[])"
      ]
     },
     "execution_count": 15,
     "metadata": {},
     "output_type": "execute_result"
    }
   ],
   "source": [
    "# Load data into feature store.\n",
    "\n",
    "fraud_txn_feature_group.ingest(data_frame=txn_data, max_workers=3, wait=True)\n",
    "fraud_summary_feature_group.ingest(data_frame=summary_data, max_workers=3, wait=True)"
   ]
  },
  {
   "cell_type": "code",
   "execution_count": 18,
   "metadata": {},
   "outputs": [
    {
     "name": "stdout",
     "output_type": "stream",
     "text": [
      "Path of data :  s3://fsbu-user1-feature-store/123456789012/sagemaker/us-east-1/offline-store/fraud-txn-feature-group-1628479258/data\n",
      "Data available for txn data.\n",
      "Path of data :  s3://fsbu-user1-feature-store/123456789012/sagemaker/us-east-1/offline-store/fraud-summary-feature-group-1628479259/data\n",
      "Data available for summary data.\n"
     ]
    }
   ],
   "source": [
    "## This cell waits for data to be loaded to both feature groups.\n",
    "## it may take a while \n",
    "\n",
    "def wait_for_data_load(input_feature_group_s3_prefix):\n",
    "    offline_store_contents = None\n",
    "    while offline_store_contents is None:\n",
    "        objects_in_bucket = s3_client.list_objects(\n",
    "            Bucket=feature_store_s3_bucket, Prefix=input_feature_group_s3_prefix\n",
    "        )\n",
    "        if \"Contents\" in objects_in_bucket and len(objects_in_bucket[\"Contents\"]) > 1:\n",
    "            offline_store_contents = objects_in_bucket[\"Contents\"]\n",
    "        else:\n",
    "            print(\"Waiting for data in offline store...\\n\")\n",
    "            sleep(60)\n",
    "\n",
    "#### \n",
    "fraud_txn_feature_group_resolved_output_s3_uri = (\n",
    "    fraud_txn_feature_group.describe()\n",
    "    .get(\"OfflineStoreConfig\")\n",
    "    .get(\"S3StorageConfig\")\n",
    "    .get(\"ResolvedOutputS3Uri\")\n",
    ")\n",
    "fraud_txn_feature_group_s3_prefix = fraud_txn_feature_group_resolved_output_s3_uri.replace(\n",
    "    f\"s3://{feature_store_s3_bucket}/\", \"\"\n",
    ")\n",
    "\n",
    "print(\"Path of data : \", fraud_txn_feature_group_resolved_output_s3_uri)\n",
    "wait_for_data_load(fraud_txn_feature_group_s3_prefix)\n",
    "print(\"Data available for txn data.\")\n",
    "            \n",
    "fraud_summary_feature_group_resolved_output_s3_uri = (\n",
    "    fraud_summary_feature_group.describe()\n",
    "    .get(\"OfflineStoreConfig\")\n",
    "    .get(\"S3StorageConfig\")\n",
    "    .get(\"ResolvedOutputS3Uri\")\n",
    ")\n",
    "fraud_summary_feature_group_s3_prefix = fraud_summary_feature_group_resolved_output_s3_uri.replace(\n",
    "    f\"s3://{feature_store_s3_bucket}/\", \"\"\n",
    ")\n",
    "\n",
    "print(\"Path of data : \", fraud_summary_feature_group_resolved_output_s3_uri)\n",
    "wait_for_data_load(fraud_summary_feature_group_s3_prefix)\n",
    "print(\"Data available for summary data.\")"
   ]
  },
  {
   "cell_type": "markdown",
   "metadata": {},
   "source": [
    "## Step 5 - Explore the feature store for some of the data.** "
   ]
  },
  {
   "cell_type": "code",
   "execution_count": 19,
   "metadata": {},
   "outputs": [
    {
     "name": "stdout",
     "output_type": "stream",
     "text": [
      "Txn record for 0  : {'ResponseMetadata': {'RequestId': '15a05fae-e202-49d1-bacb-97fcb4091cbf', 'HTTPStatusCode': 200, 'HTTPHeaders': {'x-amzn-requestid': '15a05fae-e202-49d1-bacb-97fcb4091cbf', 'content-type': 'application/json', 'content-length': '2779', 'date': 'Mon, 09 Aug 2021 12:18:04 GMT'}, 'RetryAttempts': 0}, 'Record': [{'FeatureName': 'Unique_ID', 'ValueAsString': '18683804'}, {'FeatureName': 'recnum', 'ValueAsString': '603802'}, {'FeatureName': 'AUTH_ACCOUNT_ID', 'ValueAsString': '4024004756639495'}, {'FeatureName': 'AUTH_DATE', 'ValueAsString': '1996-12-08'}, {'FeatureName': 'AUTH_TIME', 'ValueAsString': '30DEC99:18:05:28'}, {'FeatureName': 'AUTH_HOUR', 'ValueAsString': '18'}, {'FeatureName': 'AUTH_AMOUNT', 'ValueAsString': '78.0'}, {'FeatureName': 'AUTH_DECISION', 'ValueAsString': 'A'}, {'FeatureName': 'AUTH_TRAN_TYPE', 'ValueAsString': 'M'}, {'FeatureName': 'AUTH_AVAIL_CREDIT', 'ValueAsString': '248'}, {'FeatureName': 'AUTH_CRED_LINE', 'ValueAsString': '7000'}, {'FeatureName': 'AUTH_SIC', 'ValueAsString': '5531'}, {'FeatureName': 'AUTH_ZIP3_CODE', 'ValueAsString': '930'}, {'FeatureName': 'AUTH_ZIP_REST_CODE', 'ValueAsString': '10'}, {'FeatureName': 'AUTH_MERCH_CNTRY', 'ValueAsString': '000'}, {'FeatureName': 'AUTH_PIN_VER', 'ValueAsString': 'nan'}, {'FeatureName': 'AUTH_CVV', 'ValueAsString': 'V'}, {'FeatureName': 'AUTH_KEY_SWIPE', 'ValueAsString': 'U'}, {'FeatureName': 'AUTH_CARD_EXP_DATE', 'ValueAsString': '1997-08-31'}, {'FeatureName': 'AUTH_REASON_CODE', 'ValueAsString': '70.0'}, {'FeatureName': 'AUTH_ADVICE', 'ValueAsString': 'nan'}, {'FeatureName': 'AUTH_MERCHANT_ID', 'ValueAsString': '000095012440402'}, {'FeatureName': 'AUTH_TERM_ID', 'ValueAsString': 'nan'}, {'FeatureName': 'AUTH_WHICH_CARD', 'ValueAsString': '1.0'}, {'FeatureName': 'EXT_AUTH_YEAR', 'ValueAsString': '1996'}, {'FeatureName': 'EXT_AUTH_MONTH', 'ValueAsString': '12'}, {'FeatureName': 'EXT_AUTH_DAY', 'ValueAsString': '8'}, {'FeatureName': 'EXT_AUTH_BIN', 'ValueAsString': '402400'}, {'FeatureName': 'FRAUD_TYPE', 'ValueAsString': 'C'}, {'FeatureName': 'FRAUD_DATE_FIRST_FRAUD', 'ValueAsString': '1.0'}, {'FeatureName': 'FRAUD_DETECTED_DATE', 'ValueAsString': '1.0'}, {'FeatureName': 'FRAUD_LABEL', 'ValueAsString': '-1'}, {'FeatureName': 'CARD_ZIP3_CODE', 'ValueAsString': '935.0'}, {'FeatureName': 'CARD_OPEN_DATE', 'ValueAsString': '1985-10-30'}, {'FeatureName': 'CARD_CRED_LINE', 'ValueAsString': '7000.0'}, {'FeatureName': 'CARD_TYPE', 'ValueAsString': 'S'}, {'FeatureName': 'CARD_USE', 'ValueAsString': 'P'}, {'FeatureName': 'CARD_NUM_CARDS', 'ValueAsString': '2.0'}, {'FeatureName': 'CARD_REC_DATE', 'ValueAsString': '1997-12-30'}, {'FeatureName': 'AUTH_CARD_ZIP3_DIFF', 'ValueAsString': '5.0'}, {'FeatureName': 'AUTH_TRAIN_FLAG', 'ValueAsString': '1'}, {'FeatureName': 'SIC_RISK', 'ValueAsString': '0.11'}, {'FeatureName': 'AMOUNT_SIC_DEV', 'ValueAsString': '-0.03'}, {'FeatureName': 'FRAUD_STAGE', 'ValueAsString': '0'}, {'FeatureName': 'padzip', 'ValueAsString': '93010.0'}, {'FeatureName': 'txtCode', 'ValueAsString': '5531.0'}, {'FeatureName': 'txtDesc', 'ValueAsString': 'Auto & Home Supply Stores'}, {'FeatureName': 'city', 'ValueAsString': 'Camarillo'}, {'FeatureName': 'state', 'ValueAsString': 'CA'}, {'FeatureName': 'EventTime', 'ValueAsString': '1628479174.0'}]}\n",
      "------------------------------\n",
      "summary record for 4019012000171232 : {'ResponseMetadata': {'RequestId': 'ea11cfb7-befd-47ce-8696-b963c8d2f362', 'HTTPStatusCode': 200, 'HTTPHeaders': {'x-amzn-requestid': 'ea11cfb7-befd-47ce-8696-b963c8d2f362', 'content-type': 'application/json', 'content-length': '299', 'date': 'Mon, 09 Aug 2021 12:18:04 GMT'}, 'RetryAttempts': 0}, 'Record': [{'FeatureName': 'auth_account_id', 'ValueAsString': '4019012000171232'}, {'FeatureName': 'auth_date', 'ValueAsString': '1997-10-29'}, {'FeatureName': 'daily_sum', 'ValueAsString': '68.49'}, {'FeatureName': 'daily_count', 'ValueAsString': '1'}, {'FeatureName': 'EventTime', 'ValueAsString': '1628479174.0'}]}\n"
     ]
    }
   ],
   "source": [
    "# See how we can get one specific accountid record\n",
    "record_identifier_value = 18683804\n",
    "\n",
    "record_txn = featurestore_runtime.get_record(\n",
    "    FeatureGroupName=\"fraud-txn-feature-group\",\n",
    "    RecordIdentifierValueAsString=str(record_identifier_value),\n",
    ")\n",
    "print(\"Txn record for 0  :\", record_txn)\n",
    "print (\"------------------------------\")\n",
    "\n",
    "record_identifier_value = 4019012000171232\n",
    "record_summary = featurestore_runtime.get_record(\n",
    "    FeatureGroupName=\"fraud-summary-feature-group\",\n",
    "    RecordIdentifierValueAsString=str(record_identifier_value),\n",
    ")\n",
    "print(\"summary record for 4019012000171232 :\", record_summary)"
   ]
  },
  {
   "cell_type": "code",
   "execution_count": null,
   "metadata": {},
   "outputs": [],
   "source": []
  }
 ],
 "metadata": {
  "kernelspec": {
   "display_name": "py36_swatsasctl",
   "language": "python",
   "name": "py36_swatsasctl"
  },
  "language_info": {
   "codemirror_mode": {
    "name": "ipython",
    "version": 3
   },
   "file_extension": ".py",
   "mimetype": "text/x-python",
   "name": "python",
   "nbconvert_exporter": "python",
   "pygments_lexer": "ipython3",
   "version": "3.6.12"
  }
 },
 "nbformat": 4,
 "nbformat_minor": 4
}
