{
 "cells": [
  {
   "cell_type": "markdown",
   "metadata": {},
   "source": [
    "# This notebook triggers a Data Wrangler preprocessing job with output pushed into a CAS in-memory table\n",
    "#"
   ]
  },
  {
   "cell_type": "markdown",
   "metadata": {},
   "source": [
    "## Step 1 - Upload datawrangler.fow and invoke a Data preprocessing job and save output to s3."
   ]
  },
  {
   "cell_type": "code",
   "execution_count": 1,
   "metadata": {},
   "outputs": [],
   "source": [
    "import sagemaker \n",
    "import boto3\n",
    "import os\n",
    "import json\n",
    "import time\n",
    "from botocore.exceptions import ClientError\n",
    "import swat"
   ]
  },
  {
   "cell_type": "code",
   "execution_count": null,
   "metadata": {},
   "outputs": [],
   "source": []
  },
  {
   "cell_type": "code",
   "execution_count": 2,
   "metadata": {},
   "outputs": [
    {
     "name": "stdout",
     "output_type": "stream",
     "text": [
      "Final data wrangler processed file path: s3://fsbu-user1-s3bucket-1/dwrangler-preprocess-fraud-txn.flow/data-wrangler-flow-processing-09-03-06-17-c5dc088d/3a43fab9-5a35-451b-8734-dd519c72896f/default\n"
     ]
    }
   ],
   "source": [
    "# All inputs anc customizations are keyed in this cell. Rest of cells are not changed. \n",
    "\n",
    "import time\n",
    "import uuid\n",
    "\n",
    "# we need to create a role to run sagemaker. This role should have all permissions.\n",
    "# This role should have AWS managed policy \"amazonSageMakerFullAccess\" attached to it. \n",
    "#sagemaker_iam_role='arn:aws:iam::123456789012:role/service-role/AmazonSageMaker-ExecutionRole-20210714T154124'\n",
    "sagemaker_iam_role='arn:aws:iam::123456789012:role/fsbu-user1-sagemaker-fullaccess'\n",
    "                    \n",
    "# Bucket,- Root folder of all processing.\n",
    "bucket = \"fsbu-user1-s3bucket-1\"\n",
    "\n",
    "#####\n",
    "# .flow file is the result of creating a data wrangler pre-processing pipeline using SagaMaker Studio. The file itself carries all the transformations applied to input file\n",
    "# output name reflects the \"processing node.default\" whose output we want to save and feedback to SAS model training. We can have multiple \"processing nodes\" in data wrangler flow\n",
    "# and we typically take the last node o/p. You can get the specific node name from \".flow\" file. We can take intermediate nodes output as well if desired. \n",
    "dwflow_file_name = \"dwrangler-preprocess-fraud-txn.flow\"\n",
    "output_name = \"3a43fab9-5a35-451b-8734-dd519c72896f.default\"\n",
    "dwflow_node = output_name.split(\".\")[0]\n",
    "\n",
    "### Input file to be processed and location of file.\n",
    "input_filename = \"fraud_and_transactions.csv\"\n",
    "input_filename_path = f\"s3://{bucket}/{input_filename}\"\n",
    "\n",
    "# unique flow export ID to get to a unique processing job name. Each time you submit it will be a uniue job name.\n",
    "flow_export_id = f\"{time.strftime('%d-%H-%M-%S', time.gmtime())}-{str(uuid.uuid4())[:8]}\"\n",
    "flow_export_name = f\"flow-{flow_export_id}\"\n",
    "processing_job_name = f\"data-wrangler-flow-processing-{flow_export_id}\"\n",
    "\n",
    "#### output details\n",
    "s3_output_path = f\"s3://{bucket}/{dwflow_file_name}\"\n",
    "print(f\"Final data wrangler processed file path: {s3_output_path}/{processing_job_name}/{dwflow_node}/default\")\n",
    "\n"
   ]
  },
  {
   "cell_type": "code",
   "execution_count": 3,
   "metadata": {},
   "outputs": [],
   "source": [
    "# Set proper credentials and get a boto3 session with those creds\n",
    "\n",
    "# If you want to use specific keys you can set them as well. I am just uing default $HOME/.aws/config,credentials file . We can set profiles using OS Environment variables\n",
    "#os.environ['AWS_PROFILE'] = \"123456789012-sandbox\"\n",
    "#print(os.environ)\n",
    "\n",
    "#s3_client = boto3.client(\"s3\",aws_access_key_id=aws_access_key_id,aws_secret_access_key=aws_secret_access_key,aws_session_token=aws_session_token,region_name=aws_region)\n",
    "boto3_session = boto3.Session()"
   ]
  },
  {
   "cell_type": "code",
   "execution_count": 4,
   "metadata": {},
   "outputs": [
    {
     "name": "stdout",
     "output_type": "stream",
     "text": [
      "Data Wrangler flow dwrangler-preprocess-fraud-txn.flow uploaded to s3://fsbu-user1-s3bucket-1/data_wrangler_flows/dwrangler-preprocess-fraud-txn.flow\n"
     ]
    }
   ],
   "source": [
    "# PART 0 - UPLOAD DATA WRANGLER .flow file to s3 for later reference by job. \n",
    "\n",
    "s3_client = boto3_session.client('s3')\n",
    "try:\n",
    "    s3_client.upload_file(dwflow_file_name, bucket, f\"data_wrangler_flows/{dwflow_file_name}\")\n",
    "except ClientError as e:\n",
    "    print(\"Error with AWS call while uploading datawrangler.wflow file to S3: %s\" % e)\n",
    "  \n",
    "flow_s3_uri = f\"s3://{bucket}/data_wrangler_flows/{dwflow_file_name}\"\n",
    "print(f\"Data Wrangler flow {dwflow_file_name} uploaded to {flow_s3_uri}\")\n"
   ]
  },
  {
   "cell_type": "code",
   "execution_count": 5,
   "metadata": {},
   "outputs": [],
   "source": [
    "# PART1 SageMaker -  Inputs required by sagemaker python sdk to launch a job\n",
    "#\n",
    "\n",
    "import sagemaker\n",
    "\n",
    "from sagemaker.processing import ProcessingInput, ProcessingOutput\n",
    "#from sagemaker.dataset_definition.inputs import AthenaDatasetDefinition, DatasetDefinition, RedshiftDatasetDefinition\n",
    "\n",
    "## Input - \n",
    "## Data wrangler Flow: fraud-txn-preprocess.flow\n",
    "flow_input = ProcessingInput(\n",
    "    source=flow_s3_uri,\n",
    "    destination=\"/opt/ml/processing/flow\",\n",
    "    input_name=\"flow\",\n",
    "    s3_data_type=\"S3Prefix\",\n",
    "    s3_input_mode=\"File\",\n",
    "    s3_data_distribution_type=\"FullyReplicated\"\n",
    ")\n",
    "\n",
    "# Data input to be processed \n",
    "data_sources = []\n",
    "data_sources.append(ProcessingInput(\n",
    "    source=f\"{input_filename_path}\", \n",
    "    destination=f\"/opt/ml/processing/{input_filename}\",\n",
    "    input_name=f\"{input_filename}\",\n",
    "    s3_data_type=\"S3Prefix\",\n",
    "    s3_input_mode=\"File\",\n",
    "    s3_data_distribution_type=\"FullyReplicated\"\n",
    "))\n",
    "\n",
    "\n",
    "processing_job_output = ProcessingOutput(\n",
    "    output_name=output_name,\n",
    "    source=\"/opt/ml/processing/output\",\n",
    "    destination=s3_output_path,\n",
    "    s3_upload_mode=\"EndOfJob\"\n",
    ")\n"
   ]
  },
  {
   "cell_type": "code",
   "execution_count": 6,
   "metadata": {},
   "outputs": [],
   "source": [
    "# PART 2 -  configure SAGEMAKER job settings\n",
    "\n",
    "# Sagemaker session\n",
    "sess = sagemaker.Session(boto3_session)\n",
    "\n",
    "# IAM role for executing the processing job.We need following only wen running from SagaeMaker Studio.\n",
    "#iam_role = sagemaker.get_execution_role()\n",
    "\n",
    "\n",
    "# Data Wrangler Container URL.\n",
    "container_uri = \"663277389841.dkr.ecr.us-east-1.amazonaws.com/sagemaker-data-wrangler-container:1.x\"\n",
    "# Pinned Data Wrangler Container URL. \n",
    "container_uri_pinned = \"663277389841.dkr.ecr.us-east-1.amazonaws.com/sagemaker-data-wrangler-container:1.6.2\"\n",
    "\n",
    "# Processing Job Instance count and instance type.\n",
    "instance_count = 2\n",
    "instance_type = \"ml.m5.4xlarge\"\n",
    "\n",
    "# Size in GB of the EBS volume to use for storing data during processing\n",
    "volume_size_in_gb = 100\n",
    "\n",
    "# Content type for each output. Data Wrangler supports CSV as default and Parquet.\n",
    "output_content_type = \"CSV\"\n",
    "\n",
    "# Network Isolation mode; default is off\n",
    "enable_network_isolation = False\n",
    "\n",
    "# Output configuration used as processing job container arguments \n",
    "output_config = {\n",
    "    output_name: {\n",
    "        \"content_type\": output_content_type\n",
    "    }\n",
    "}"
   ]
  },
  {
   "cell_type": "code",
   "execution_count": 7,
   "metadata": {},
   "outputs": [
    {
     "name": "stdout",
     "output_type": "stream",
     "text": [
      "\n",
      "Job Name:  data-wrangler-flow-processing-09-03-06-17-c5dc088d\n",
      "Inputs:  [{'InputName': 'flow', 'AppManaged': False, 'S3Input': {'S3Uri': 's3://fsbu-user1-s3bucket-1/data_wrangler_flows/dwrangler-preprocess-fraud-txn.flow', 'LocalPath': '/opt/ml/processing/flow', 'S3DataType': 'S3Prefix', 'S3InputMode': 'File', 'S3DataDistributionType': 'FullyReplicated', 'S3CompressionType': 'None'}}, {'InputName': 'fraud_and_transactions.csv', 'AppManaged': False, 'S3Input': {'S3Uri': 's3://fsbu-user1-s3bucket-1/fraud_and_transactions.csv', 'LocalPath': '/opt/ml/processing/fraud_and_transactions.csv', 'S3DataType': 'S3Prefix', 'S3InputMode': 'File', 'S3DataDistributionType': 'FullyReplicated', 'S3CompressionType': 'None'}}]\n",
      "Outputs:  [{'OutputName': '3a43fab9-5a35-451b-8734-dd519c72896f.default', 'AppManaged': False, 'S3Output': {'S3Uri': 's3://fsbu-user1-s3bucket-1/dwrangler-preprocess-fraud-txn.flow', 'LocalPath': '/opt/ml/processing/output', 'S3UploadMode': 'EndOfJob'}}]\n"
     ]
    }
   ],
   "source": [
    "# PART 3 - CREATE JOB AND RUN JOB\n",
    "\n",
    "from sagemaker.processing import Processor\n",
    "from sagemaker.network import NetworkConfig\n",
    "\n",
    "processor = Processor(\n",
    "    role=sagemaker_iam_role,\n",
    "    image_uri=container_uri,\n",
    "    instance_count=instance_count,\n",
    "    instance_type=instance_type,\n",
    "    volume_size_in_gb=volume_size_in_gb,\n",
    "    network_config=NetworkConfig(enable_network_isolation=enable_network_isolation),\n",
    "    sagemaker_session=sess\n",
    ")\n",
    "\n",
    "# Start Job\n",
    "processor.run(\n",
    "    inputs=[flow_input] + data_sources, \n",
    "    outputs=[processing_job_output],\n",
    "    arguments=[f\"--output-config '{json.dumps(output_config)}'\"],\n",
    "    wait=False,\n",
    "    logs=False,\n",
    "    job_name=processing_job_name\n",
    ")"
   ]
  },
  {
   "cell_type": "code",
   "execution_count": 8,
   "metadata": {},
   "outputs": [
    {
     "name": "stdout",
     "output_type": "stream",
     "text": [
      "Final data wrangler processed file path: s3://fsbu-user1-s3bucket-1/dwrangler-preprocess-fraud-txn.flow/data-wrangler-flow-processing-09-03-06-17-c5dc088d/3a43fab9-5a35-451b-8734-dd519c72896f/default\n",
      ".....................................................................!"
     ]
    },
    {
     "data": {
      "text/plain": [
       "{'ProcessingInputs': [{'InputName': 'flow',\n",
       "   'AppManaged': False,\n",
       "   'S3Input': {'S3Uri': 's3://fsbu-user1-s3bucket-1/data_wrangler_flows/dwrangler-preprocess-fraud-txn.flow',\n",
       "    'LocalPath': '/opt/ml/processing/flow',\n",
       "    'S3DataType': 'S3Prefix',\n",
       "    'S3InputMode': 'File',\n",
       "    'S3DataDistributionType': 'FullyReplicated',\n",
       "    'S3CompressionType': 'None'}},\n",
       "  {'InputName': 'fraud_and_transactions.csv',\n",
       "   'AppManaged': False,\n",
       "   'S3Input': {'S3Uri': 's3://fsbu-user1-s3bucket-1/fraud_and_transactions.csv',\n",
       "    'LocalPath': '/opt/ml/processing/fraud_and_transactions.csv',\n",
       "    'S3DataType': 'S3Prefix',\n",
       "    'S3InputMode': 'File',\n",
       "    'S3DataDistributionType': 'FullyReplicated',\n",
       "    'S3CompressionType': 'None'}}],\n",
       " 'ProcessingOutputConfig': {'Outputs': [{'OutputName': '3a43fab9-5a35-451b-8734-dd519c72896f.default',\n",
       "    'S3Output': {'S3Uri': 's3://fsbu-user1-s3bucket-1/dwrangler-preprocess-fraud-txn.flow',\n",
       "     'LocalPath': '/opt/ml/processing/output',\n",
       "     'S3UploadMode': 'EndOfJob'},\n",
       "    'AppManaged': False}]},\n",
       " 'ProcessingJobName': 'data-wrangler-flow-processing-09-03-06-17-c5dc088d',\n",
       " 'ProcessingResources': {'ClusterConfig': {'InstanceCount': 2,\n",
       "   'InstanceType': 'ml.m5.4xlarge',\n",
       "   'VolumeSizeInGB': 100}},\n",
       " 'StoppingCondition': {'MaxRuntimeInSeconds': 86400},\n",
       " 'AppSpecification': {'ImageUri': '663277389841.dkr.ecr.us-east-1.amazonaws.com/sagemaker-data-wrangler-container:1.x',\n",
       "  'ContainerArguments': ['--output-config \\'{\"3a43fab9-5a35-451b-8734-dd519c72896f.default\": {\"content_type\": \"CSV\"}}\\'']},\n",
       " 'NetworkConfig': {'EnableInterContainerTrafficEncryption': False,\n",
       "  'EnableNetworkIsolation': False},\n",
       " 'RoleArn': 'arn:aws:iam::123456789012:role/fsbu-user1-sagemaker-fullaccess',\n",
       " 'ProcessingJobArn': 'arn:aws:sagemaker:us-east-1:123456789012:processing-job/data-wrangler-flow-processing-09-03-06-17-c5dc088d',\n",
       " 'ProcessingJobStatus': 'Completed',\n",
       " 'ProcessingEndTime': datetime.datetime(2021, 8, 8, 23, 12, 37, 41000, tzinfo=tzlocal()),\n",
       " 'ProcessingStartTime': datetime.datetime(2021, 8, 8, 23, 11, 13, 740000, tzinfo=tzlocal()),\n",
       " 'LastModifiedTime': datetime.datetime(2021, 8, 8, 23, 12, 37, 315000, tzinfo=tzlocal()),\n",
       " 'CreationTime': datetime.datetime(2021, 8, 8, 23, 6, 51, 207000, tzinfo=tzlocal()),\n",
       " 'ResponseMetadata': {'RequestId': '70f37d1a-5e75-4939-8e23-ad74a4882323',\n",
       "  'HTTPStatusCode': 200,\n",
       "  'HTTPHeaders': {'x-amzn-requestid': '70f37d1a-5e75-4939-8e23-ad74a4882323',\n",
       "   'content-type': 'application/x-amz-json-1.1',\n",
       "   'content-length': '1859',\n",
       "   'date': 'Mon, 09 Aug 2021 03:12:40 GMT'},\n",
       "  'RetryAttempts': 0}}"
      ]
     },
     "execution_count": 8,
     "metadata": {},
     "output_type": "execute_result"
    }
   ],
   "source": [
    "# PART 4 - Wait for job to complete \n",
    "print(f\"Final data wrangler processed file path: {s3_output_path}/{processing_job_name}/{dwflow_node}/default\")\n",
    "job_result = sess.wait_for_processing_job(processing_job_name)\n",
    "job_result"
   ]
  },
  {
   "cell_type": "markdown",
   "metadata": {},
   "source": [
    "## Step 2 - Pull processed data into Viya in-memory for next step of model training"
   ]
  },
  {
   "cell_type": "code",
   "execution_count": 9,
   "metadata": {},
   "outputs": [
    {
     "name": "stdin",
     "output_type": "stream",
     "text": [
      " ···········\n"
     ]
    }
   ],
   "source": [
    "##\n",
    "# SAS SWAT Takes over from here\n",
    "import os\n",
    "import swat\n",
    "import pandas\n",
    "import json\n",
    "from getpass import getpass\n",
    "\n",
    "os.environ['CAS_CLIENT_SSL_CA_LIST'] = '/sgrid/openssl_certs/cas_controller_certs/fsds-viya34lab-controller.pem'\n",
    "#os.environ['CAS_CLIENT_SSL_CA_LIST'] = '/sgrid/openssl_certs/cas_controller_certs/fsbuviya4.fsbu-openstack-k8s.unx.sas.com.pem'\n",
    "os.environ['TKESSL_OPENSSL_LIB'] = '/usr/lib64/libssl.so.10'\n",
    "# os.environ['SSLREQCERT']='ALLOW'    ==> if you want to ignore cert business.\n",
    "\n",
    "cashost = \"fsds-viya34lab-controller.fsl.sashq-d.openstack.sas.com\"\n",
    "casport = 5570\n",
    "protocol = \"cas\"\n",
    "username = \"user1\"\n",
    "password = getpass()\n",
    "#password = \"\""
   ]
  },
  {
   "cell_type": "code",
   "execution_count": 10,
   "metadata": {},
   "outputs": [
    {
     "name": "stdout",
     "output_type": "stream",
     "text": [
      "NOTE: Grid node action status report: 5 nodes, 8 total actions executed.\n",
      "status :  [About]\n",
      "\n",
      " {'CAS': 'Cloud Analytic Services',\n",
      "  'Version': '3.05',\n",
      "  'VersionLong': 'V.03.05M0P11112019',\n",
      "  'Copyright': 'Copyright © 2014-2018 SAS Institute Inc. All Rights Reserved.',\n",
      "  'ServerTime': '2021-08-09T03:13:42Z',\n",
      "  'System': {'Hostname': 'fsds-viya34lab-controller.fsl.sashq-d.openstack.sas.com',\n",
      "   'OS Name': 'Linux',\n",
      "   'OS Family': 'LIN X64',\n",
      "   'OS Release': '3.10.0-1062.1.1.el7.x86_64',\n",
      "   'OS Version': '#1 SMP Fri Sep 13 22:55:44 UTC 2019',\n",
      "   'Model Number': 'x86_64',\n",
      "   'Linux Distribution': 'CentOS Linux release 7.7.1908 (Core)'},\n",
      "  'license': {'site': 'Viya 3.5 FSBU GA Shipped',\n",
      "   'siteNum': 70180938,\n",
      "   'expires': '11Feb2022:00:00:00',\n",
      "   'gracePeriod': 45,\n",
      "   'warningPeriod': 45}}\n",
      "\n",
      "[server]\n",
      "\n",
      " Server Status\n",
      " \n",
      "    nodes  actions\n",
      " 0      5        8\n",
      "\n",
      "[nodestatus]\n",
      "\n",
      " Node Status\n",
      " \n",
      "                                                 name        role  uptime  \\\n",
      " 0  fsds-viya34lab-worker-1.fsl.sashq-d.openstack....      worker   0.475   \n",
      " 1  fsds-viya34lab-worker-2.fsl.sashq-d.openstack....      worker   0.475   \n",
      " 2  fsds-viya34lab-worker-3.fsl.sashq-d.openstack....      worker   0.475   \n",
      " 3  fsds-viya34lab-worker-4.fsl.sashq-d.openstack....      worker   0.475   \n",
      " 4  fsds-viya34lab-controller.fsl.sashq-d.openstac...  controller   0.559   \n",
      " \n",
      "    running  stalled  \n",
      " 0        0        0  \n",
      " 1        0        0  \n",
      " 2        0        0  \n",
      " 3        0        0  \n",
      " 4        0        0  \n",
      "\n",
      "+ Elapsed: 0.00843s, user: 0.00177s, sys: 0.00919s, mem: 1.41mb\n"
     ]
    }
   ],
   "source": [
    "conn = swat.CAS(cashost, casport, protocol=protocol,username=username,password=password)\n",
    "out = conn.serverstatus()\n",
    "print(\"status : \", out)\n",
    "\n",
    "# conn.help()\n",
    "#conn.help(actionset='table')\n",
    "#conn.help(actionset='table',action='fileinfo');\n"
   ]
  },
  {
   "cell_type": "code",
   "execution_count": 14,
   "metadata": {},
   "outputs": [
    {
     "name": "stdout",
     "output_type": "stream",
     "text": [
      "NOTE: 'S3CASLIB3' is now the active caslib.\n",
      "NOTE: Cloud Analytic Services added the caslib 'S3CASLIB3'.\n",
      "NOTE: Cloud Analytic Services made the file part-00000-6dfc3862-f368-4d76-a6b8-4f5db094b8a9-c000.csv in AWS S3 bucket fsbu-user1-s3bucket-1 available as table PART-00000-6DFC3862-F368-4D76-A6B8-4F5DB094B8A9-C000 in caslib S3CASLIB3.\n"
     ]
    },
    {
     "data": {
      "text/html": [
       "<div class=\"cas-results-key\"><b>&#167; TableInfo</b></div>\n",
       "<div class=\"cas-results-body\">\n",
       "<div>\n",
       "<style scoped>\n",
       "    .dataframe tbody tr th:only-of-type {\n",
       "        vertical-align: middle;\n",
       "    }\n",
       "\n",
       "    .dataframe tbody tr th {\n",
       "        vertical-align: top;\n",
       "    }\n",
       "\n",
       "    .dataframe thead th {\n",
       "        text-align: right;\n",
       "    }\n",
       "</style>\n",
       "<table border=\"1\" class=\"dataframe\">\n",
       "  <thead>\n",
       "    <tr style=\"text-align: right;\">\n",
       "      <th title=\"\"></th>\n",
       "      <th title=\"Name\">Name</th>\n",
       "      <th title=\"Rows\">Rows</th>\n",
       "      <th title=\"Columns\">Columns</th>\n",
       "      <th title=\"Indexed Columns\">IndexedColumns</th>\n",
       "      <th title=\"Encoding\">Encoding</th>\n",
       "      <th title=\"Created\">CreateTimeFormatted</th>\n",
       "      <th title=\"Last Modified\">ModTimeFormatted</th>\n",
       "      <th title=\"Last Accessed\">AccessTimeFormatted</th>\n",
       "      <th title=\"Character Set\">JavaCharSet</th>\n",
       "      <th title=\"CreateTime\">CreateTime</th>\n",
       "      <th title=\"...\">...</th>\n",
       "      <th title=\"Repeated\">Repeated</th>\n",
       "      <th title=\"View\">View</th>\n",
       "      <th title=\"MultiPart\">MultiPart</th>\n",
       "      <th title=\"Loaded Source\">SourceName</th>\n",
       "      <th title=\"Source Caslib\">SourceCaslib</th>\n",
       "      <th title=\"Compressed\">Compressed</th>\n",
       "      <th title=\"Table Creator\">Creator</th>\n",
       "      <th title=\"Last Table Modifier\">Modifier</th>\n",
       "      <th title=\"Source Modified\">SourceModTimeFormatted</th>\n",
       "      <th title=\"SourceModTime\">SourceModTime</th>\n",
       "    </tr>\n",
       "  </thead>\n",
       "  <tbody>\n",
       "    <tr>\n",
       "      <th>0</th>\n",
       "      <td>PART-00000-6DFC3862-F368-4D76-A6B8-4F5DB094B8A...</td>\n",
       "      <td>171408</td>\n",
       "      <td>4</td>\n",
       "      <td>0</td>\n",
       "      <td>utf-8</td>\n",
       "      <td>2021-08-08T23:14:41-04:00</td>\n",
       "      <td>2021-08-08T23:14:41-04:00</td>\n",
       "      <td>2021-08-08T23:14:41-04:00</td>\n",
       "      <td>UTF8</td>\n",
       "      <td>1.944098e+09</td>\n",
       "      <td>...</td>\n",
       "      <td>0</td>\n",
       "      <td>0</td>\n",
       "      <td>0</td>\n",
       "      <td>part-00000-6dfc3862-f368-4d76-a6b8-4f5db094b8a...</td>\n",
       "      <td>S3CASLIB3</td>\n",
       "      <td>0</td>\n",
       "      <td>user1</td>\n",
       "      <td></td>\n",
       "      <td></td>\n",
       "      <td>NaN</td>\n",
       "    </tr>\n",
       "  </tbody>\n",
       "</table>\n",
       "<p>1 rows × 23 columns</p>\n",
       "</div>\n",
       "</div>\n",
       "<div class=\"cas-output-area\"></div>\n",
       "<p class=\"cas-results-performance\"><small><span class=\"cas-elapsed\">elapsed 0.00917s</span> &#183; <span class=\"cas-user\">user 0.00609s</span> &#183; <span class=\"cas-sys\">sys 0.00541s</span> &#183; <span class=\"cas-memory\">mem 1.86MB</span></small></p>"
      ],
      "text/plain": [
       "[TableInfo]\n",
       "\n",
       "                                                 Name    Rows  Columns  \\\n",
       " 0  PART-00000-6DFC3862-F368-4D76-A6B8-4F5DB094B8A...  171408        4   \n",
       " \n",
       "    IndexedColumns Encoding        CreateTimeFormatted  \\\n",
       " 0               0    utf-8  2021-08-08T23:14:41-04:00   \n",
       " \n",
       "             ModTimeFormatted        AccessTimeFormatted JavaCharSet  \\\n",
       " 0  2021-08-08T23:14:41-04:00  2021-08-08T23:14:41-04:00        UTF8   \n",
       " \n",
       "      CreateTime  ...  Repeated  View  MultiPart  \\\n",
       " 0  1.944098e+09  ...         0     0          0   \n",
       " \n",
       "                                           SourceName  SourceCaslib  \\\n",
       " 0  part-00000-6dfc3862-f368-4d76-a6b8-4f5db094b8a...     S3CASLIB3   \n",
       " \n",
       "    Compressed Creator Modifier  SourceModTimeFormatted SourceModTime  \n",
       " 0           0  user1                                            NaN  \n",
       " \n",
       " [1 rows x 23 columns]\n",
       "\n",
       "+ Elapsed: 0.00917s, user: 0.00609s, sys: 0.00541s, mem: 1.86mb"
      ]
     },
     "execution_count": 14,
     "metadata": {},
     "output_type": "execute_result"
    }
   ],
   "source": [
    "# Get S3 data loaded into CAS in-memory for processing\n",
    "\n",
    "bucket = \"fsbu-user1-s3bucket-1\"\n",
    "datasource = \"{\\\"srctype\\\":\\\"s3\\\",\\\"bucket\\\":\\\"\" + bucket + \"\\\", \\\"objectPath\\\":\\\"/\" + dwflow_file_name + \"/\" + processing_job_name + \"/\" + dwflow_node + \"/default/\\\", \\\"awsConfigPath\\\":'/sgrid/home/user1/.aws/config', \\\"awsCredentialsPath\\\":'/sgrid/home/user1/.aws/credentials'} \" \n",
    "\n",
    "conn.table.addCaslib(name='S3CASLIB3', description='', subDirectories='false', session='true', activeOnAdd='true', dataSource=eval(datasource), createDirectory='false')\n",
    "#conn.table.addCaslib(name='S3CASLIB3', description='', subDirectories='false', session='true', activeOnAdd='true', dataSource={\"srctype\":\"s3\",\"bucket\":\"fsbu-user1-s3bucket-1\", \"objectPath\":\"/fraud-txn-preprocess.flow/data-wrangler-flow-processing-23-14-47-25-0005098d/3a43fab9-5a35-451b-8734-dd519c72896f/default/\", \"awsConfigPath\":'/sgrid/home/user1/.aws/config', \"awsCredentialsPath\":'/sgrid/home/user1/.aws/credentials'}, createDirectory='false')\n",
    "filename = conn.table.fileinfo(caslib='s3caslib3')['FileInfo']['Name'][0]\n",
    "conn.table.loadtable(caslib='s3caslib3',path=filename,casout={\"replication\":0,\"replace\":\"True\"})\n",
    "\n",
    "conn.table.tableinfo(caslib='s3caslib3')\n"
   ]
  },
  {
   "cell_type": "code",
   "execution_count": 15,
   "metadata": {},
   "outputs": [
    {
     "name": "stdout",
     "output_type": "stream",
     "text": [
      "[FileInfo]\n",
      "\n",
      "    Permission             Owner Group  \\\n",
      " 0  ----------  awssandboxroot01         \n",
      " \n",
      "                                                 Name     Size Encryption  \\\n",
      " 0  part-00000-6dfc3862-f368-4d76-a6b8-4f5db094b8a...  6127514              \n",
      " \n",
      "                         Time       ModTime  \n",
      " 0  2021-08-08T23:12:06-04:00  1.944098e+09  \n",
      "\n",
      "+ Elapsed: 0.647s, user: 0.0268s, sys: 0.00931s, mem: 1.82mb\n",
      "[TableInfo]\n",
      "\n",
      "                                                 Name    Rows  Columns  \\\n",
      " 0  PART-00000-6DFC3862-F368-4D76-A6B8-4F5DB094B8A...  171408        4   \n",
      " \n",
      "    IndexedColumns Encoding        CreateTimeFormatted  \\\n",
      " 0               0    utf-8  2021-08-08T23:14:41-04:00   \n",
      " \n",
      "             ModTimeFormatted        AccessTimeFormatted JavaCharSet  \\\n",
      " 0  2021-08-08T23:14:41-04:00  2021-08-08T23:14:41-04:00        UTF8   \n",
      " \n",
      "      CreateTime  ...  Repeated  View  MultiPart  \\\n",
      " 0  1.944098e+09  ...         0     0          0   \n",
      " \n",
      "                                           SourceName  SourceCaslib  \\\n",
      " 0  part-00000-6dfc3862-f368-4d76-a6b8-4f5db094b8a...     S3CASLIB3   \n",
      " \n",
      "    Compressed Creator Modifier  SourceModTimeFormatted SourceModTime  \n",
      " 0           0  user1                                            NaN  \n",
      " \n",
      " [1 rows x 23 columns]\n",
      "\n",
      "+ Elapsed: 0.0081s, user: 0.00505s, sys: 0.0069s, mem: 1.87mb\n"
     ]
    }
   ],
   "source": [
    "print(conn.table.fileinfo(caslib='s3caslib3'))\n",
    "print(conn.table.tableinfo(caslib='s3caslib3'))"
   ]
  },
  {
   "cell_type": "code",
   "execution_count": 16,
   "metadata": {},
   "outputs": [
    {
     "name": "stdout",
     "output_type": "stream",
     "text": [
      "NOTE: 'CASUSERHDFS(user1)' is now the active caslib.\n",
      "NOTE: Cloud Analytic Services removed the caslib 's3caslib3'.\n"
     ]
    }
   ],
   "source": [
    "# conn.help()\n",
    "#conn.help(actionset='table')\n",
    "#conn.help(actionset='table',action='fileinfo');\n",
    "conn.table.dropcaslib(caslib='s3caslib3')\n",
    "conn.close()"
   ]
  },
  {
   "cell_type": "code",
   "execution_count": 13,
   "metadata": {},
   "outputs": [
    {
     "name": "stdout",
     "output_type": "stream",
     "text": [
      "NOTE: 'CASUSERHDFS(user1)' is now the active caslib.\n",
      "NOTE: Cloud Analytic Services removed the caslib 's3caslib3'.\n"
     ]
    },
    {
     "data": {
      "text/html": [
       "<div class=\"cas-output-area\"></div>\n",
       "<p class=\"cas-results-performance\"><small><span class=\"cas-elapsed\">elapsed 0.0117s</span> &#183; <span class=\"cas-user\">user 0.0025s</span> &#183; <span class=\"cas-sys\">sys 0.0141s</span> &#183; <span class=\"cas-memory\">mem 1.39MB</span></small></p>"
      ],
      "text/plain": [
       "+ Elapsed: 0.0117s, user: 0.0025s, sys: 0.0141s, mem: 1.39mb"
      ]
     },
     "execution_count": 13,
     "metadata": {},
     "output_type": "execute_result"
    }
   ],
   "source": [
    "conn.table.dropcaslib(caslib='s3caslib3')"
   ]
  },
  {
   "cell_type": "code",
   "execution_count": null,
   "metadata": {},
   "outputs": [],
   "source": []
  }
 ],
 "metadata": {
  "kernelspec": {
   "display_name": "py36_swatsasctl",
   "language": "python",
   "name": "py36_swatsasctl"
  },
  "language_info": {
   "codemirror_mode": {
    "name": "ipython",
    "version": 3
   },
   "file_extension": ".py",
   "mimetype": "text/x-python",
   "name": "python",
   "nbconvert_exporter": "python",
   "pygments_lexer": "ipython3",
   "version": "3.6.12"
  }
 },
 "nbformat": 4,
 "nbformat_minor": 4
}
