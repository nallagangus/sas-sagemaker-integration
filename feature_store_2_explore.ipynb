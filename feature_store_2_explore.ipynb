{
 "cells": [
  {
   "cell_type": "markdown",
   "metadata": {},
   "source": [
    "# This Notebook explores features in AWS feature store created earlier.\n",
    "##### Step 1. **Explore earlier created feature groups**\n",
    "##### Step 2. **Update summary_feature_group with additional data and see how offline and online stores differ in terms of data returned** \n",
    "##### Step 3. **Leverage \"tags\" with versions and see how you can only pull specific versioned data**\n",
    "   "
   ]
  },
  {
   "cell_type": "code",
   "execution_count": 1,
   "metadata": {},
   "outputs": [],
   "source": [
    "# default_bucket for everything.\n",
    "default_bucket = \"fsbu-user1-s3bucket-1\"\n",
    "\n",
    "# offline store area for feature-store.\n",
    "feature_store_s3_bucket = \"fsbu-user1-feature-store\"\n",
    "\n",
    "# All access defined on this role\n",
    "sagemaker_iam_role='arn:aws:iam::123456789012:role/fsbu-user1-sagemaker-fullaccess'\n"
   ]
  },
  {
   "cell_type": "markdown",
   "metadata": {},
   "source": [
    "## Step1  Begin\n",
    "##### Create sessions \n",
    "##### Describe feature groups\n",
    "##### Total number of records and validate against the original input CSV files"
   ]
  },
  {
   "cell_type": "markdown",
   "metadata": {},
   "source": [
    "#### Step 1 - create required sessions, config objects to access feature stores.** "
   ]
  },
  {
   "cell_type": "code",
   "execution_count": null,
   "metadata": {},
   "outputs": [],
   "source": [
    "import numpy as np\n",
    "import pandas as pd\n",
    "import boto3\n",
    "\n",
    "import sagemaker\n",
    "from sagemaker.session import Session\n",
    "from sagemaker.feature_store.feature_group import FeatureGroup\n",
    "\n",
    "boto3_session = boto3.Session()\n",
    "s3_client = boto3_session.client('s3')\n",
    "sagemaker_client = boto3_session.client('sagemaker')\n",
    "featurestore_runtime = boto3_session.client(service_name=\"sagemaker-featurestore-runtime\")\n",
    "\n",
    "feature_store_session = Session(boto_session=boto3_session,\n",
    "    sagemaker_client=sagemaker_client,\n",
    "    sagemaker_featurestore_runtime_client=featurestore_runtime,\n",
    ")\n",
    "\n",
    "# get all feature groups and then describe each one\n",
    "feature_group_list=[]\n",
    "print(\"Feature groups in our store are: \")\n",
    "for i in sagemaker_client.list_feature_groups().get('FeatureGroupSummaries'):\n",
    "    feature_group_name = i.get('FeatureGroupName')\n",
    "    feature_group_list.append(FeatureGroup(name=feature_group_name, sagemaker_session=feature_store_session))\n",
    "    print(feature_group_name)\n",
    "\n",
    "print(\"----------------\")\n",
    "for feature_group in feature_group_list:\n",
    "    print(\"--- Describe output of \")\n",
    "    print(feature_group.describe())\n"
   ]
  },
  {
   "cell_type": "markdown",
   "metadata": {},
   "source": [
    "##### Validate features saved into feature store\n",
    "##### O/Ps from following should match to the orginal contents of files in terms of number of rows. o/p has additional columns such as \"EventTime\", lastaccess time etc which were not there in original input csv files.\n",
    "##### dir(fraud_txn_feature_group) ==> shows all methods available"
   ]
  },
  {
   "cell_type": "code",
   "execution_count": 3,
   "metadata": {},
   "outputs": [
    {
     "name": "stdout",
     "output_type": "stream",
     "text": [
      "=========\n"
     ]
    },
    {
     "name": "stderr",
     "output_type": "stream",
     "text": [
      "/opt/anaconda3/envs/py36_swatsasctl/lib/python3.6/site-packages/IPython/core/interactiveshell.py:2878: DtypeWarning: Columns (16) have mixed types.Specify dtype option on import or set low_memory=False.\n",
      "  exec(code_obj, self.user_global_ns, self.user_ns)\n"
     ]
    },
    {
     "name": "stdout",
     "output_type": "stream",
     "text": [
      "pd frame shape : (201648, 57)\n",
      "   unique_id   recnum   auth_account_id   auth_date         auth_time  \\\n",
      "0   18687804  2486410  5425769053974909  1996-11-11  30DEC99:10:34:20   \n",
      "1   16425806  2063110  5254002122218203  1997-03-07  30DEC99:15:18:52   \n",
      "2   15564705  1918971  4301781950162187  1997-02-06  30DEC99:08:40:04   \n",
      "3   16426506   497549  4024004529636483  1997-05-17  30DEC99:12:18:16   \n",
      "4   18694804  2557455  5432259408087973  1996-11-26  30DEC99:10:34:09   \n",
      "\n",
      "   auth_hour  auth_amount  auth_curr_code  auth_curr_rate auth_decision  ...  \\\n",
      "0         10        99.68             NaN             0.0             A  ...   \n",
      "1         15        70.35             NaN             NaN             A  ...   \n",
      "2          8         1.00             NaN             0.0             A  ...   \n",
      "3         12        59.53             NaN             0.0             A  ...   \n",
      "4         10        23.65             NaN             0.0             A  ...   \n",
      "\n",
      "  fraud_stage   padzip  txtcode                    txtdesc         city state  \\\n",
      "0          -1  92804.0   5531.0  Auto & Home Supply Stores      Anaheim    CA   \n",
      "1          -1  91791.0   5661.0                Shoe Stores  West Covina    CA   \n",
      "2           1  85205.0   5542.0   Automated Fuel Dispenser         Mesa    AZ   \n",
      "3           0  91790.0   5661.0                Shoe Stores  West Covina    CA   \n",
      "4          -1  92626.0   5531.0  Auto & Home Supply Stores   Costa Mesa    CA   \n",
      "\n",
      "      eventtime               write_time      api_invocation_time is_deleted  \n",
      "0  1.628479e+09  2021-08-09 03:27:17.243  2021-08-09 03:22:17.000      False  \n",
      "1  1.628479e+09  2021-08-09 03:27:17.243  2021-08-09 03:22:18.000      False  \n",
      "2  1.628479e+09  2021-08-09 03:27:17.243  2021-08-09 03:22:18.000      False  \n",
      "3  1.628479e+09  2021-08-09 03:27:17.243  2021-08-09 03:22:18.000      False  \n",
      "4  1.628479e+09  2021-08-09 03:27:17.243  2021-08-09 03:22:18.000      False  \n",
      "\n",
      "[5 rows x 57 columns]\n",
      "=========\n",
      "pd frame shape : (171408, 8)\n",
      "    auth_account_id   auth_date  daily_sum  daily_count     eventtime  \\\n",
      "0  5432257460521789  1996-12-24      26.56            1  1.628479e+09   \n",
      "1  5432257470541781  1996-11-11       7.49            1  1.628479e+09   \n",
      "2  5432257470541781  1996-11-12       3.95            1  1.628479e+09   \n",
      "3  5432257470541781  1996-11-16      23.69            2  1.628479e+09   \n",
      "4  5432257470541781  1996-11-25      16.68            1  1.628479e+09   \n",
      "\n",
      "                write_time      api_invocation_time  is_deleted  \n",
      "0  2021-08-09 04:05:06.237  2021-08-09 04:00:06.000       False  \n",
      "1  2021-08-09 04:05:06.237  2021-08-09 04:00:07.000       False  \n",
      "2  2021-08-09 04:05:06.237  2021-08-09 04:00:07.000       False  \n",
      "3  2021-08-09 04:05:06.237  2021-08-09 04:00:07.000       False  \n",
      "4  2021-08-09 04:05:06.237  2021-08-09 04:00:07.000       False  \n"
     ]
    }
   ],
   "source": [
    "#fraud_txn_feature_group = feature_group_list[0]\n",
    "#fraud_summary_feature_group = feature_group_list[1]\n",
    "#dir(fraud_txn_feature_group.athena_query())\n",
    "def explore_feature_group(feature_group):\n",
    "    a_query = feature_group.athena_query()\n",
    "    a_table = a_query.table_name\n",
    "    a_query_string = ('select * from \"' + a_table + '\"' )\n",
    "    a_query.run(query_string=a_query_string, output_location= \"s3://\" + default_bucket + \"/query_results\")\n",
    "    a_query.wait()\n",
    "    a_pd = pd.DataFrame()\n",
    "    a_pd = a_query.as_dataframe()\n",
    "    print(\"pd frame shape :\", a_pd.shape)\n",
    "    print(a_pd.head())\n",
    "    \n",
    "for feature_group in feature_group_list:\n",
    "    print(\"=========\")\n",
    "    explore_feature_group(feature_group)\n",
    "    \n",
    "#print(\"out: \", txn)\n",
    "# txn_pd.shape()\n",
    "#fraud_summary_feature_group.delete()"
   ]
  },
  {
   "cell_type": "markdown",
   "metadata": {},
   "source": [
    "#### Print equivalent DDL statements that can be accessed thru EP"
   ]
  },
  {
   "cell_type": "code",
   "execution_count": null,
   "metadata": {},
   "outputs": [],
   "source": [
    "for feature_group in feature_group_list:\n",
    "    print(feature_group.describe())\n",
    "    print(\"----------------\")\n",
    "    print(feature_group.as_hive_ddl())\n",
    "    print(\"================================================-\")"
   ]
  },
  {
   "cell_type": "markdown",
   "metadata": {},
   "source": [
    "##  Step 2 starts here \n",
    "#### Update summary feature group with new data rows and then explore..\n",
    "#### See the difference between Offline store and Online store ..."
   ]
  },
  {
   "cell_type": "code",
   "execution_count": 6,
   "metadata": {},
   "outputs": [],
   "source": [
    "# Load updtaes data into feature store.\n",
    "# default bucket and input data files\n",
    "bucket = \"fsbu-user1-s3bucket-1\"\n",
    "fraud_summary_file = \"fraud_txn_summary_update.csv\"\n",
    "\n",
    "# All access defined on this role\n",
    "sagemaker_iam_role='arn:aws:iam::123456789012:role/fsbu-user1-sagemaker-fullaccess'\n"
   ]
  },
  {
   "cell_type": "code",
   "execution_count": 7,
   "metadata": {},
   "outputs": [
    {
     "data": {
      "text/html": [
       "<div>\n",
       "<style scoped>\n",
       "    .dataframe tbody tr th:only-of-type {\n",
       "        vertical-align: middle;\n",
       "    }\n",
       "\n",
       "    .dataframe tbody tr th {\n",
       "        vertical-align: top;\n",
       "    }\n",
       "\n",
       "    .dataframe thead th {\n",
       "        text-align: right;\n",
       "    }\n",
       "</style>\n",
       "<table border=\"1\" class=\"dataframe\">\n",
       "  <thead>\n",
       "    <tr style=\"text-align: right;\">\n",
       "      <th></th>\n",
       "      <th>auth_account_id</th>\n",
       "      <th>auth_date</th>\n",
       "      <th>daily_sum</th>\n",
       "      <th>daily_count</th>\n",
       "    </tr>\n",
       "  </thead>\n",
       "  <tbody>\n",
       "    <tr>\n",
       "      <th>0</th>\n",
       "      <td>4019012000171232</td>\n",
       "      <td>1997-09-19</td>\n",
       "      <td>42.44</td>\n",
       "      <td>1</td>\n",
       "    </tr>\n",
       "    <tr>\n",
       "      <th>1</th>\n",
       "      <td>4019012000171232</td>\n",
       "      <td>1997-10-29</td>\n",
       "      <td>78.49</td>\n",
       "      <td>1</td>\n",
       "    </tr>\n",
       "    <tr>\n",
       "      <th>2</th>\n",
       "      <td>4019012000198253</td>\n",
       "      <td>1997-10-12</td>\n",
       "      <td>20.00</td>\n",
       "      <td>2</td>\n",
       "    </tr>\n",
       "    <tr>\n",
       "      <th>3</th>\n",
       "      <td>4019012000198253</td>\n",
       "      <td>1997-10-16</td>\n",
       "      <td>10.00</td>\n",
       "      <td>2</td>\n",
       "    </tr>\n",
       "    <tr>\n",
       "      <th>4</th>\n",
       "      <td>4019012000198253</td>\n",
       "      <td>1997-10-26</td>\n",
       "      <td>15.00</td>\n",
       "      <td>1</td>\n",
       "    </tr>\n",
       "  </tbody>\n",
       "</table>\n",
       "</div>"
      ],
      "text/plain": [
       "    auth_account_id   auth_date  daily_sum  daily_count\n",
       "0  4019012000171232  1997-09-19      42.44            1\n",
       "1  4019012000171232  1997-10-29      78.49            1\n",
       "2  4019012000198253  1997-10-12      20.00            2\n",
       "3  4019012000198253  1997-10-16      10.00            2\n",
       "4  4019012000198253  1997-10-26      15.00            1"
      ]
     },
     "execution_count": 7,
     "metadata": {},
     "output_type": "execute_result"
    }
   ],
   "source": [
    "import numpy as np\n",
    "import pandas as pd\n",
    "#import matplotlib.pyplot as plt\n",
    "import io\n",
    "import boto3\n",
    "\n",
    "try:\n",
    "    fraud_summary_data_object = s3_client.get_object(Bucket=bucket, Key=fraud_summary_file)\n",
    "except ClientError as e:\n",
    "    print(\"Error with AWS call while reading files from S3: %s\" % e)\n",
    "\n",
    "summary_data = pd.read_csv(io.BytesIO(fraud_summary_data_object[\"Body\"].read()))\n",
    "\n",
    "summary_data.head()"
   ]
  },
  {
   "cell_type": "code",
   "execution_count": 8,
   "metadata": {},
   "outputs": [
    {
     "name": "stdout",
     "output_type": "stream",
     "text": [
      "summary head with new eventtime:      auth_account_id   auth_date  daily_sum  daily_count     EventTime\n",
      "0  4019012000171232  1997-09-19      42.44            1  1.628512e+09\n",
      "1  4019012000171232  1997-10-29      78.49            1  1.628512e+09\n",
      "2  4019012000198253  1997-10-12      20.00            2  1.628512e+09\n",
      "3  4019012000198253  1997-10-16      10.00            2  1.628512e+09\n",
      "4  4019012000198253  1997-10-26      15.00            1  1.628512e+09\n"
     ]
    }
   ],
   "source": [
    "import time\n",
    "\n",
    "current_time_sec = int(round(time.time()))\n",
    "\n",
    "def cast_object_to_string(data_frame):\n",
    "    for label in data_frame.columns:\n",
    "        if data_frame.dtypes[label] == \"object\":\n",
    "            data_frame[label] = data_frame[label].astype(\"str\").astype(\"string\")\n",
    "\n",
    "# cast object dtype to string. The SageMaker FeatureStore Python SDK will then map the string dtype to String feature type.\n",
    "cast_object_to_string(summary_data)\n",
    "\n",
    "# record identifier and event time feature names\n",
    "record_identifier_feature_name = \"auth_account_id\"\n",
    "event_time_feature_name = \"EventTime\"\n",
    "\n",
    "# append EventTime feature\n",
    "summary_data[event_time_feature_name] = pd.Series(\n",
    "    [current_time_sec] * len(summary_data), dtype=\"float64\"\n",
    ")\n",
    "    \n",
    "print(\"summary head with new eventtime: \", summary_data.head())\n",
    "\n"
   ]
  },
  {
   "cell_type": "code",
   "execution_count": 9,
   "metadata": {},
   "outputs": [
    {
     "name": "stdout",
     "output_type": "stream",
     "text": [
      "Path of data :  s3://fsbu-user1-feature-store/123456789012/sagemaker/us-east-1/offline-store/fraud-summary-feature-group-1628479259/data\n",
      "Data available for summary data.\n"
     ]
    }
   ],
   "source": [
    "## This cell waits for data to be loaded to feature groups.\n",
    "## We will just update summary feature group with additional data. \n",
    "## the new data will get udpated to both online and offline stores.\n",
    "\n",
    "fraud_summary_feature_group = feature_group_list[1]\n",
    "fraud_summary_feature_group.ingest(data_frame=summary_data, max_workers=2, wait=True)\n",
    "\n",
    "def wait_for_data_load(input_feature_group_s3_prefix):\n",
    "    offline_store_contents = None\n",
    "    while offline_store_contents is None:\n",
    "        objects_in_bucket = s3_client.list_objects(\n",
    "            Bucket=feature_store_s3_bucket, Prefix=input_feature_group_s3_prefix\n",
    "        )\n",
    "        if \"Contents\" in objects_in_bucket and len(objects_in_bucket[\"Contents\"]) > 1:\n",
    "            offline_store_contents = objects_in_bucket[\"Contents\"]\n",
    "        else:\n",
    "            print(\"Waiting for data in offline store...\\n\")\n",
    "            sleep(60)\n",
    "\n",
    "#### \n",
    "            \n",
    "fraud_summary_feature_group_resolved_output_s3_uri = (\n",
    "    fraud_summary_feature_group.describe()\n",
    "    .get(\"OfflineStoreConfig\")\n",
    "    .get(\"S3StorageConfig\")\n",
    "    .get(\"ResolvedOutputS3Uri\")\n",
    ")\n",
    "fraud_summary_feature_group_s3_prefix = fraud_summary_feature_group_resolved_output_s3_uri.replace(\n",
    "    f\"s3://{feature_store_s3_bucket}/\", \"\"\n",
    ")\n",
    "\n",
    "print(\"Path of data : \", fraud_summary_feature_group_resolved_output_s3_uri)\n",
    "wait_for_data_load(fraud_summary_feature_group_s3_prefix)\n",
    "print(\"Data available for summary data.\")"
   ]
  },
  {
   "cell_type": "markdown",
   "metadata": {},
   "source": [
    "#### Ok. Let us review summary_feature after updates. \n",
    "##### Get Record gives you the latest record. 4019012000171232,1997-10-29,78.49,1 - The one with $78.49 is returned this time after the update. Which means getRecord goes after online store/. This can be used during inference if we need the latest record.\n",
    "##### see if you get all records of summary feature. Original ones + new ones. This means batch gets to offline store and hence all records are returned. this is for Training."
   ]
  },
  {
   "cell_type": "code",
   "execution_count": 10,
   "metadata": {},
   "outputs": [
    {
     "name": "stdout",
     "output_type": "stream",
     "text": [
      "summary record for 4019012000171232 : {'ResponseMetadata': {'RequestId': 'a19cb1c5-0b1c-4cd2-a265-5aeb0f7e5c9c', 'HTTPStatusCode': 200, 'HTTPHeaders': {'x-amzn-requestid': 'a19cb1c5-0b1c-4cd2-a265-5aeb0f7e5c9c', 'content-type': 'application/json', 'content-length': '299', 'date': 'Mon, 09 Aug 2021 12:25:34 GMT'}, 'RetryAttempts': 0}, 'Record': [{'FeatureName': 'auth_account_id', 'ValueAsString': '4019012000171232'}, {'FeatureName': 'auth_date', 'ValueAsString': '1997-10-29'}, {'FeatureName': 'daily_sum', 'ValueAsString': '78.49'}, {'FeatureName': 'daily_count', 'ValueAsString': '1'}, {'FeatureName': 'EventTime', 'ValueAsString': '1628511922.0'}]}\n"
     ]
    }
   ],
   "source": [
    "# See how we can get one specific accountid record\n",
    "# \n",
    "\n",
    "record_identifier_value = 4019012000171232\n",
    "record_summary = featurestore_runtime.get_record(\n",
    "    FeatureGroupName=\"fraud-summary-feature-group\",\n",
    "    RecordIdentifierValueAsString=str(record_identifier_value),\n",
    ")\n",
    "print(\"summary record for 4019012000171232 :\", record_summary)"
   ]
  },
  {
   "cell_type": "code",
   "execution_count": 12,
   "metadata": {},
   "outputs": [
    {
     "name": "stdout",
     "output_type": "stream",
     "text": [
      "pd frame shape : (171428, 8)\n",
      "    auth_account_id   auth_date  daily_sum  daily_count     eventtime  \\\n",
      "0  5432257460521789  1996-12-24      26.56            1  1.628479e+09   \n",
      "1  5432257470541781  1996-11-11       7.49            1  1.628479e+09   \n",
      "2  5432257470541781  1996-11-12       3.95            1  1.628479e+09   \n",
      "3  5432257470541781  1996-11-16      23.69            2  1.628479e+09   \n",
      "4  5432257470541781  1996-11-25      16.68            1  1.628479e+09   \n",
      "\n",
      "                write_time      api_invocation_time  is_deleted  \n",
      "0  2021-08-09 04:05:06.237  2021-08-09 04:00:06.000       False  \n",
      "1  2021-08-09 04:05:06.237  2021-08-09 04:00:07.000       False  \n",
      "2  2021-08-09 04:05:06.237  2021-08-09 04:00:07.000       False  \n",
      "3  2021-08-09 04:05:06.237  2021-08-09 04:00:07.000       False  \n",
      "4  2021-08-09 04:05:06.237  2021-08-09 04:00:07.000       False  \n"
     ]
    }
   ],
   "source": [
    "# following takes a while to reflect latest since data needs to be synced from online to offsite.- It took more than 10 min some cases.\n",
    "explore_feature_group(fraud_summary_feature_group)"
   ]
  },
  {
   "cell_type": "markdown",
   "metadata": {},
   "source": [
    "## Step 3 - \n",
    "#### Leverage tags/versions to identify different versions of data."
   ]
  },
  {
   "cell_type": "code",
   "execution_count": null,
   "metadata": {},
   "outputs": [],
   "source": [
    "dir(fraud_summary_feature_group.athena_query())"
   ]
  },
  {
   "cell_type": "code",
   "execution_count": 10,
   "metadata": {},
   "outputs": [
    {
     "name": "stdout",
     "output_type": "stream",
     "text": [
      "response:  123456789012/sagemaker/us-east-1/offline-store/fraud-summary-feature-group-1627918092/data/year=2021/month=08/day=02/hour=15/20210802T151642Z_028pMefNM5x5IQyM.parquet\n"
     ]
    }
   ],
   "source": [
    "\n",
    "response = s3_client.list_objects_v2(\n",
    "            Bucket=\"fsbu-user1-feature-store\",\n",
    "            Prefix ='123456789012/sagemaker/us-east-1/offline-store/fraud-summary-feature-group-1627918092/data',\n",
    "            MaxKeys=100 )['Contents'][0]['Key']\n",
    "#print(\"response: \", response)\n",
    "for rec in response:\n",
    "    \n"
   ]
  },
  {
   "cell_type": "code",
   "execution_count": null,
   "metadata": {},
   "outputs": [],
   "source": []
  }
 ],
 "metadata": {
  "kernelspec": {
   "display_name": "py36_swatsasctl",
   "language": "python",
   "name": "py36_swatsasctl"
  },
  "language_info": {
   "codemirror_mode": {
    "name": "ipython",
    "version": 3
   },
   "file_extension": ".py",
   "mimetype": "text/x-python",
   "name": "python",
   "nbconvert_exporter": "python",
   "pygments_lexer": "ipython3",
   "version": "3.6.12"
  }
 },
 "nbformat": 4,
 "nbformat_minor": 4
}
